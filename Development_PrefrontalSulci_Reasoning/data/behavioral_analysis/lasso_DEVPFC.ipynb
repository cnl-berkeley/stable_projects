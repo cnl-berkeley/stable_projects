{
 "cells": [
  {
   "cell_type": "code",
   "execution_count": 1,
   "id": "39536c48",
   "metadata": {},
   "outputs": [],
   "source": [
    "#### load packages ####\n",
    "import numpy as np\n",
    "import pandas as pd\n",
    "import nilearn\n",
    "import nibabel as nib"
   ]
  },
  {
   "cell_type": "markdown",
   "id": "9bb20f0c",
   "metadata": {},
   "source": [
    "### Model Selection\n",
    "* **Behavioral metric** : Change in matrix reasoning score (T2- T1)\n",
    "* **Morphological metric** : Change in mean cortical thickness (T2 - T1)\n",
    "\n",
    "We use a LASSO regression as a form of feature selection to determine which sulci, if any predict change in matrix reasoning performance. We use cross-validation to tune the shrinking paramater (alpha) and select the model that minimizes cross-validated mean seqared error."
   ]
  },
  {
   "cell_type": "code",
   "execution_count": 2,
   "id": "bebe3459",
   "metadata": {},
   "outputs": [],
   "source": [
    "# import from sklearn CV and lasso\n",
    "from sklearn.model_selection import GridSearchCV, LeaveOneOut\n",
    "from sklearn.linear_model import Lasso\n",
    "\n",
    "loo = LeaveOneOut()"
   ]
  },
  {
   "cell_type": "code",
   "execution_count": 3,
   "id": "fae0898e",
   "metadata": {},
   "outputs": [],
   "source": [
    "## Lasso ##\n",
    "def lasso_(Xr, yr, alpha_vals, n_folds = loo):\n",
    "    ''''\n",
    "        Determine best paramters for LASSO regression and fit model\n",
    "        input\n",
    "        ----------\n",
    "        Xr = predictors \n",
    "        yr = DV\n",
    "        alpha_vals = array of possible alpha values to test \n",
    "        n_folds = folds for cross-validation. Default is loo\n",
    "        Returns\n",
    "        --------\n",
    "        depth values as an array     \n",
    "    '''\n",
    "\n",
    "    # determine the alpha-value that minimizes MSE with GridSearchCV.\n",
    "    lasso = Lasso()\n",
    "    lasso_regressor = GridSearchCV(lasso, alpha_vals, scoring = 'neg_mean_squared_error', cv = n_folds)\n",
    "    lasso_regressor.fit(Xr, yr)\n",
    "\n",
    "    # best alpha and MSE\n",
    "    best_alpha = lasso_regressor.best_params_\n",
    "    best_MSE = lasso_regressor.best_score_\n",
    "\n",
    "    # fit the best model\n",
    "    best_model = lasso_regressor.best_estimator_\n",
    "    best_model.fit(Xr,yr)\n",
    "    best_model.predict(Xr)\n",
    "    \n",
    "    #best_model.score_\n",
    "    return best_alpha, best_MSE, best_model.coef_\n",
    "\n"
   ]
  },
  {
   "cell_type": "code",
   "execution_count": 4,
   "id": "6a0e4602",
   "metadata": {},
   "outputs": [],
   "source": [
    "## load data (in wide format) for each hemisphere ## \n",
    "\n",
    "# right\n",
    "right_hemi_ct = pd.read_csv('devpfc_matrixr_lasso_rh.csv')\n",
    "\n",
    "# left\n",
    "left_hemi_ct = pd.read_csv('devpfc_matrixr_lasso_lh.csv')\n",
    "\n"
   ]
  },
  {
   "cell_type": "code",
   "execution_count": 8,
   "id": "c2eb8398",
   "metadata": {},
   "outputs": [],
   "source": [
    "## set-up model ## \n",
    "\n",
    "#  predictors\n",
    "Xr = [\n",
    "     'central', 'ifs', 'imfs_h', 'imfs_v', 'iprs', 'sprs',\n",
    "     'sfs_a', 'sfs_p', 'pmfs_a', 'pmfs_i', 'pmfs_p',\n",
    "     'aalf', 'half', 'ds', 'ts', 'prts', 'lfms'\n",
    "     ]\n",
    "\n",
    "# DV\n",
    "yr = ['MatrixR_change']\n",
    "\n",
    "# alpha values\n",
    "alpha = {'alpha':[.005, .01, .03, .05, .07, .09, .1, .3, .5, .7, 1]}\n"
   ]
  },
  {
   "cell_type": "markdown",
   "id": "8b3056a3",
   "metadata": {},
   "source": [
    "#### Right hemisphere lasso"
   ]
  },
  {
   "cell_type": "code",
   "execution_count": 9,
   "id": "dfd13b7b",
   "metadata": {},
   "outputs": [],
   "source": [
    "## Lasso on RH sulci ## \n",
    "\n",
    "rh_lasso = lasso_(right_hemi_ct[Xr], right_hemi_ct[yr], alpha)"
   ]
  },
  {
   "cell_type": "code",
   "execution_count": 10,
   "id": "1e5e2c38",
   "metadata": {},
   "outputs": [
    {
     "name": "stdout",
     "output_type": "stream",
     "text": [
      "{'alpha': 0.5}\n",
      "-26.756235827664405\n",
      "['central', 'ifs', 'imfs_h', 'imfs_v', 'iprs', 'sprs', 'sfs_a', 'sfs_p', 'pmfs_a', 'pmfs_i', 'pmfs_p', 'aalf', 'half', 'ds', 'ts', 'prts', 'lfms']\n",
      "[ 0.  0.  0. -0.  0.  0.  0.  0.  0.  0.  0.  0.  0.  0.  0.  0.  0.]\n"
     ]
    }
   ],
   "source": [
    "## best RH model ##\n",
    "# alpha\n",
    "print(rh_lasso[0])\n",
    "\n",
    "# neg MSE \n",
    "print(rh_lasso[1])\n",
    "\n",
    "# beta-vals\n",
    "print(Xr)\n",
    "print(rh_lasso[2])"
   ]
  },
  {
   "cell_type": "markdown",
   "id": "5a7d8dcf",
   "metadata": {},
   "source": [
    "##### Right hemisphere sulci are not related:\n",
    "\n",
    "'alpha' = 0.5\n",
    "\n",
    "MSE = (-) 26.756235827664405\n",
    "\n",
    "betas = 0.  0.  0. -0.  0.  0.  0.  0.  0.  0.  0.  0.  0.  0.  0.  0.  0."
   ]
  },
  {
   "cell_type": "markdown",
   "id": "fb1ae16c",
   "metadata": {},
   "source": [
    "#### Left hemisphere lasso"
   ]
  },
  {
   "cell_type": "code",
   "execution_count": 11,
   "id": "4bfc6fd0",
   "metadata": {},
   "outputs": [],
   "source": [
    "lh_lasso = lasso_(left_hemi_ct[Xr], left_hemi_ct[yr], alpha)"
   ]
  },
  {
   "cell_type": "code",
   "execution_count": 12,
   "id": "6259124d",
   "metadata": {},
   "outputs": [
    {
     "name": "stdout",
     "output_type": "stream",
     "text": [
      "{'alpha': 0.07}\n",
      "-24.283969026526297\n",
      "['central', 'ifs', 'imfs_h', 'imfs_v', 'iprs', 'sprs', 'sfs_a', 'sfs_p', 'pmfs_a', 'pmfs_i', 'pmfs_p', 'aalf', 'half', 'ds', 'ts', 'prts', 'lfms']\n",
      "[ 0.          0.         -0.         -0.          0.          0.\n",
      " -0.          0.         -1.49273578  0.         -0.         14.90415914\n",
      "  0.         -0.          0.          2.88950575 -8.4316517 ]\n"
     ]
    }
   ],
   "source": [
    "## best LH model ##\n",
    "# alpha\n",
    "print(lh_lasso[0])\n",
    "\n",
    "# neg MSE \n",
    "print(lh_lasso[1])\n",
    "\n",
    "# beta-vals\n",
    "print(Xr)\n",
    "print(lh_lasso[2])"
   ]
  },
  {
   "cell_type": "markdown",
   "id": "f805d69e",
   "metadata": {},
   "source": [
    "##### Left hemisphere sulci are related:\n",
    "\n",
    "'alpha' = .07,\n",
    "MSE = (-) 24.28\n",
    "\n",
    "'pmfs_a' = -1.49\n",
    "'aalf' = 14.9\n",
    "'prts' = 2.89\n",
    "'lfms' = -8.43"
   ]
  },
  {
   "cell_type": "markdown",
   "id": "3aab9125",
   "metadata": {},
   "source": [
    "### Model Evaluation\n",
    "After determining which sulci are releted to change in matrix reasoning performance we use these sulci to construct a model to determine predictiveness. \n",
    "To account for the wide developmental age range and the correlation between baseline age and change in reasoning performance (r = -0.43, p = .004), we also include baseline age as a predictor. \n",
    "We compare this lasso-selected model to alternative nested models. "
   ]
  },
  {
   "cell_type": "code",
   "execution_count": 13,
   "id": "91382195",
   "metadata": {},
   "outputs": [],
   "source": [
    "## load sklearn functions for loocv ##\n",
    "from sklearn.model_selection import train_test_split\n",
    "from sklearn import metrics\n",
    "from sklearn import linear_model\n",
    "from sklearn.utils import resample"
   ]
  },
  {
   "cell_type": "markdown",
   "id": "d77e549d",
   "metadata": {},
   "source": [
    "#### Fit linear regression with loocv\n",
    "We fit all of our models using a leave-out-out cross validation which is appropriate for small sample sizes"
   ]
  },
  {
   "cell_type": "code",
   "execution_count": 14,
   "id": "ea1f49dd",
   "metadata": {},
   "outputs": [],
   "source": [
    "# LOOCV\n",
    "def lm_loocv (Xr, yr, mod):\n",
    "    \"\"\"\n",
    "    linear regression with a leave-one-subject out cross validation proceedure. \n",
    "    input: input: Xr = matrix or array of predictors from dataframe  in format X= df[['X1', 'X2', 'Xn']]\n",
    "    yr = Array of DV of interest from dataframe in format y= df['yr']\n",
    "    mod = model name as strip. will be used to save a .csv with model predictions are saved as file for later use\n",
    "    returns: r_squared-cv, mean squared error, dataframe of measured and predicted y-values.\n",
    "\n",
    "    \"\"\"    \n",
    "    \n",
    "    # create arrays to append y-vals\n",
    "    ytests = []\n",
    "    ypreds = []\n",
    "    \n",
    "    # set input arrays as np objects\n",
    "    X_array = np.array(Xr)\n",
    "    y_array = np.array(yr)\n",
    " \n",
    "     # split into train and test\n",
    "    for train_idx, test_idx in loo.split(Xr):\n",
    "        X_train, X_test = X_array[train_idx], X_array[test_idx] #requires arrays\n",
    "        y_train, y_test = y_array[train_idx], y_array[test_idx]\n",
    "\n",
    "        # model to fit\n",
    "        lm = linear_model.LinearRegression() \n",
    "        \n",
    "        # fit model on training data\n",
    "        model = lm.fit(X_train,y_train) \n",
    "        \n",
    "        # generate predictions with testing data\n",
    "        y_pred = lm.predict(X_test) \n",
    "        \n",
    "        #there is only one y-test and y-pred per iteration over the loo.split, \n",
    "        #so we append each score to respective lists.\n",
    "        \n",
    "        ytests += list(y_test) #should be your original y input\n",
    "        ypreds += list(y_pred)\n",
    "\n",
    "    #get mean squared error and R2-cv values by comparing the test to the predicted.       \n",
    "    rr = metrics.r2_score(ytests, ypreds)\n",
    "    ms_error = metrics.mean_squared_error(ytests, ypreds)\n",
    "    \n",
    "    # save predicted/measured scores as a dataframe (and write to csv)\n",
    "    model_preds = pd.DataFrame({\"Measured\": ytests, \"Predicted\": ypreds})\n",
    "    model_preds.to_csv(path_or_buf= \"plots/\" + mod + \".csv\")\n",
    "    \n",
    "    # return regression fit metrics\n",
    "    return rr , ms_error, model_preds  "
   ]
  },
  {
   "cell_type": "markdown",
   "id": "51486975",
   "metadata": {},
   "source": [
    "#### Setup data\n",
    "Only left hemisphere sulci were associated with change in matrix reasoning, so we first select only those sulci"
   ]
  },
  {
   "cell_type": "markdown",
   "id": "51b397f8",
   "metadata": {},
   "source": [
    "#### Model 1a - lasso-selected sulci + baseline age ####\n",
    "First we fit the model derived from the left hemisphere findings. Four sulci are included as predictors in the model. We also include baseline age as that is significantly related to change in MatrixR (r = -0.43, p = .004)."
   ]
  },
  {
   "cell_type": "code",
   "execution_count": 16,
   "id": "cb04206d",
   "metadata": {},
   "outputs": [
    {
     "name": "stdout",
     "output_type": "stream",
     "text": [
      "0.2188021381072427 19.941036606605927\n"
     ]
    }
   ],
   "source": [
    "## set model for selected sulci ##\n",
    "\n",
    "# x-vals are change in sulcal thickness of selected sulci + baseline age\n",
    "Xr =[ 'baseline_age','pmfs_a', 'aalf', 'prts', 'lfms' ]\n",
    "\n",
    "# predicting matrix reasoning score\n",
    "yr = 'MatrixR_change'\n",
    "\n",
    "## predict reasoning score ##\n",
    "mod_1a = lm_loocv(left_hemi_ct[Xr], left_hemi_ct[yr], \"model_1a\")\n",
    "\n",
    "# print MSE and R2\n",
    "# We can assess the fit of this model by looking at MSE-cv and R2 values\n",
    "print(mod_1a[0], mod_1a[1])"
   ]
  },
  {
   "cell_type": "markdown",
   "id": "61ce993e",
   "metadata": {},
   "source": [
    "Model is strongly predictive of change in matrix reasoning scores (R2 = .22, MSE = 19.94). "
   ]
  },
  {
   "cell_type": "markdown",
   "id": "a33d54c3",
   "metadata": {},
   "source": [
    "#### Model 2 - baseline age alone\n",
    "To assess the unique variance *not* due to age. We can remove sulci from the model and use baseline age as the sole predictor. "
   ]
  },
  {
   "cell_type": "code",
   "execution_count": 19,
   "id": "1ea21017",
   "metadata": {},
   "outputs": [],
   "source": [
    "## set model for age alone ##\n",
    "Xr =[ 'baseline_age' ]"
   ]
  },
  {
   "cell_type": "code",
   "execution_count": 20,
   "id": "965cdb95",
   "metadata": {},
   "outputs": [],
   "source": [
    "## predict reasoning score ##\n",
    "mod_2 = lm_loocv(left_hemi_ct[Xr], left_hemi_ct[yr], \"model_2\")"
   ]
  },
  {
   "cell_type": "code",
   "execution_count": 21,
   "id": "7aab7509",
   "metadata": {},
   "outputs": [
    {
     "name": "stdout",
     "output_type": "stream",
     "text": [
      "0.09766803446319794 23.033133644892366\n"
     ]
    }
   ],
   "source": [
    "# print MSE and R2\n",
    "print(mod_2[0], mod_2[1])"
   ]
  },
  {
   "cell_type": "markdown",
   "id": "f1c5607b",
   "metadata": {},
   "source": [
    "Removing the tertiary sulci from the model decreases the model fit (R2 = .098, MSE = 23.03). Thus, the change in thickness of these four sulci is explaining additional variance beyond what is explained by baseline age. "
   ]
  },
  {
   "cell_type": "markdown",
   "id": "f9f030a9",
   "metadata": {},
   "source": [
    "#### Model 3 - all left hemisphere sulci + baseline age\n",
    "Finally, we can test a model include all left hemisphere LPFC sulci and baseline age in the model."
   ]
  },
  {
   "cell_type": "code",
   "execution_count": 22,
   "id": "0da601ac",
   "metadata": {},
   "outputs": [],
   "source": [
    "## set model for ##\n",
    "Xr = [ 'baseline_age', 'central', 'ifs', 'imfs_h', 'imfs_v', 'iprs', 'sprs',\n",
    "     'sfs_a', 'sfs_p', 'pmfs_a', 'pmfs_i', 'pmfs_p',\n",
    "     'aalf', 'half', 'ds', 'ts', 'prts', 'lfms' ]"
   ]
  },
  {
   "cell_type": "code",
   "execution_count": 23,
   "id": "e11d8f2a",
   "metadata": {},
   "outputs": [
    {
     "name": "stdout",
     "output_type": "stream",
     "text": [
      "-0.6331228579465626 41.687470334971266\n"
     ]
    }
   ],
   "source": [
    "## predict reasoning score ##\n",
    "mod_3 = lm_loocv(left_hemi_ct[Xr], left_hemi_ct[yr], \"model_1c\")\n",
    "\n",
    "# print MSE and R2\n",
    "print(mod_3[0], mod_3[1])"
   ]
  },
  {
   "cell_type": "markdown",
   "id": "a3923cec",
   "metadata": {},
   "source": [
    "Model with all sulci is notably worse (R2 = -0.63, MSE = 41.69). "
   ]
  },
  {
   "cell_type": "markdown",
   "id": "90100161",
   "metadata": {},
   "source": [
    "#### Correlate model predictions\n",
    "To further characterize the fit of our best model (model 1a) we can correlate our predicted scores from the model with the subjects' actual matrix reasoning scores. "
   ]
  },
  {
   "cell_type": "code",
   "execution_count": 24,
   "id": "3df60622",
   "metadata": {},
   "outputs": [
    {
     "data": {
      "text/html": [
       "<div>\n",
       "<style scoped>\n",
       "    .dataframe tbody tr th:only-of-type {\n",
       "        vertical-align: middle;\n",
       "    }\n",
       "\n",
       "    .dataframe tbody tr th {\n",
       "        vertical-align: top;\n",
       "    }\n",
       "\n",
       "    .dataframe thead th {\n",
       "        text-align: right;\n",
       "    }\n",
       "</style>\n",
       "<table border=\"1\" class=\"dataframe\">\n",
       "  <thead>\n",
       "    <tr style=\"text-align: right;\">\n",
       "      <th></th>\n",
       "      <th>Measured</th>\n",
       "      <th>Predicted</th>\n",
       "    </tr>\n",
       "  </thead>\n",
       "  <tbody>\n",
       "    <tr>\n",
       "      <th>Measured</th>\n",
       "      <td>1.000000</td>\n",
       "      <td>0.461514</td>\n",
       "    </tr>\n",
       "    <tr>\n",
       "      <th>Predicted</th>\n",
       "      <td>0.461514</td>\n",
       "      <td>1.000000</td>\n",
       "    </tr>\n",
       "  </tbody>\n",
       "</table>\n",
       "</div>"
      ],
      "text/plain": [
       "           Measured  Predicted\n",
       "Measured   1.000000   0.461514\n",
       "Predicted  0.461514   1.000000"
      ]
     },
     "execution_count": 24,
     "metadata": {},
     "output_type": "execute_result"
    }
   ],
   "source": [
    "## model 1a ## \n",
    "mod_1a_preds = mod_1a[2]\n",
    "mod_1a_preds.corr(method = 'spearman')"
   ]
  },
  {
   "cell_type": "markdown",
   "id": "1d9a7034",
   "metadata": {},
   "source": [
    "Predicted change in reasoning scores correlates strongly with the actual predicted scores (Spearman's r = .46)."
   ]
  }
 ],
 "metadata": {
  "kernelspec": {
   "display_name": "Python 3",
   "language": "python",
   "name": "python3"
  },
  "language_info": {
   "codemirror_mode": {
    "name": "ipython",
    "version": 3
   },
   "file_extension": ".py",
   "mimetype": "text/x-python",
   "name": "python",
   "nbconvert_exporter": "python",
   "pygments_lexer": "ipython3",
   "version": "3.8.8"
  }
 },
 "nbformat": 4,
 "nbformat_minor": 5
}
