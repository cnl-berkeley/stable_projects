{
 "cells": [
  {
   "cell_type": "code",
   "execution_count": 1,
   "id": "39536c48",
   "metadata": {},
   "outputs": [],
   "source": [
    "#### load packages ####\n",
    "import numpy as np\n",
    "import pandas as pd\n",
    "import nilearn\n",
    "import nibabel as nib"
   ]
  },
  {
   "cell_type": "markdown",
   "id": "9bb20f0c",
   "metadata": {},
   "source": [
    "### Model Selection\n",
    "* **Behavioral metric** : Reasoning / Spatial Orientation score\n",
    "* **Morphological metric** : Sulcal depth of LPC sulci\n",
    "\n",
    "We use a LASSO regression as a form of feature selection to determine which sulci, if any predict behaviors associated with LPC. We use cross-validation to tune the shrinking paramater (alpha) and select the model that minimizes cross-validated mean seqared error."
   ]
  },
  {
   "cell_type": "code",
   "execution_count": 2,
   "id": "bebe3459",
   "metadata": {},
   "outputs": [],
   "source": [
    "# import from sklearn CV and lasso\n",
    "from sklearn.model_selection import GridSearchCV, LeaveOneOut\n",
    "from sklearn.linear_model import Lasso\n",
    "\n",
    "loo = LeaveOneOut()"
   ]
  },
  {
   "cell_type": "code",
   "execution_count": 3,
   "id": "fae0898e",
   "metadata": {},
   "outputs": [],
   "source": [
    "## Lasso ##\n",
    "def lasso_(Xr, yr, alpha_vals, n_folds = loo):\n",
    "    ''''\n",
    "        Determine best paramters for LASSO regression and fit model\n",
    "        input\n",
    "        ----------\n",
    "        Xr = predictors \n",
    "        yr = DV\n",
    "        alpha_vals = array of possible alpha values to test \n",
    "        n_folds = folds for cross-validation. Default is loo\n",
    "        Returns\n",
    "        --------\n",
    "        depth values as an array     \n",
    "    '''\n",
    "\n",
    "    # determine the alpha-value that minimizes MSE with GridSearchCV.\n",
    "    lasso = Lasso()\n",
    "    lasso_regressor = GridSearchCV(lasso, alpha_vals, scoring = 'neg_mean_squared_error', cv = n_folds)\n",
    "    lasso_regressor.fit(Xr, yr)\n",
    "\n",
    "    # best alpha and MSE\n",
    "    best_alpha = lasso_regressor.best_params_\n",
    "    best_MSE = lasso_regressor.best_score_\n",
    "    # fit the best model\n",
    "    best_model = lasso_regressor.best_estimator_\n",
    "    best_model.fit(Xr,yr)\n",
    "    best_model.predict(Xr)\n",
    "    \n",
    "    #best_model.score_\n",
    "    return best_alpha, best_MSE, best_model.coef_\n",
    "\n"
   ]
  },
  {
   "cell_type": "code",
   "execution_count": 4,
   "id": "6a0e4602",
   "metadata": {},
   "outputs": [],
   "source": [
    "## load data (in wide format) for each hemisphere ## \n",
    "\n",
    "lpc_depth = pd.read_csv('lpc_sulc_depth_lasso_final')\n",
    "\n",
    "# right\n",
    "right_hemi_depth = lpc_depth[lpc_depth[\"hemi\"] == 'rh']\n",
    "\n",
    "# left\n",
    "left_hemi_depth = lpc_depth[lpc_depth[\"hemi\"] == 'lh']"
   ]
  },
  {
   "cell_type": "markdown",
   "id": "8ea3bac9",
   "metadata": {},
   "source": [
    "#### right hemisphere lasso - reasoning"
   ]
  },
  {
   "cell_type": "code",
   "execution_count": 5,
   "id": "6a61d60d",
   "metadata": {},
   "outputs": [
    {
     "name": "stdout",
     "output_type": "stream",
     "text": [
      "{'alpha': 0.3}\n",
      "-24.013408304498277\n",
      "['1.STS', '2.cSTS3', '3.cSTS2', '4.cSTS1', '5.SmgS', '6.slocs_v', '10.lTOS', '11.mTOS', '12.IPS_PO', '13.pips', '14.sB', '15.aipsJ', '16.IPS', '17.SPS']\n",
      "[ 0. -0.  0.  0.  0.  0. -0. -0. -0. -0. -0. -0. -0.  0.]\n"
     ]
    }
   ],
   "source": [
    "## Lasso on RH sulci ## \n",
    "\n",
    "## set-up model ## \n",
    "\n",
    "# predictors \n",
    "Xr = ['1.STS', '2.cSTS3', '3.cSTS2', '4.cSTS1',  '5.SmgS', '6.slocs_v', '10.lTOS', '11.mTOS', '12.IPS_PO', '13.pips', '14.sB', '15.aipsJ', '16.IPS', '17.SPS']\n",
    "\n",
    "# DV \n",
    "yr = ['PMAT24_A_CR']\n",
    "\n",
    "# alpha values\n",
    "alpha = {'alpha':[.005, .01, .03, .05, .07, .09, .1, .3, .5, .7, .9]}\n",
    "# model\n",
    "rh_lasso = lasso_(right_hemi_depth[Xr], right_hemi_depth[yr], alpha)\n",
    "\n",
    "## plot results ##\n",
    "# alpha\n",
    "print(rh_lasso[0])\n",
    "\n",
    "# neg MSE \n",
    "print(rh_lasso[1])\n",
    "\n",
    "# beta-vals\n",
    "print(Xr)\n",
    "print(rh_lasso[2])"
   ]
  },
  {
   "cell_type": "markdown",
   "id": "cea29f1a",
   "metadata": {},
   "source": [
    "#### left hemisphere lasso - reasoning"
   ]
  },
  {
   "cell_type": "code",
   "execution_count": 6,
   "id": "8b3adab6",
   "metadata": {},
   "outputs": [
    {
     "name": "stdout",
     "output_type": "stream",
     "text": [
      "{'alpha': 0.3}\n",
      "-24.013408304498277\n",
      "['1.STS', '2.cSTS3', '3.cSTS2', '4.cSTS1', '5.SmgS', '6.slocs_v', '10.lTOS', '11.mTOS', '12.IPS_PO', '13.pips', '14.sB', '15.aipsJ', '16.IPS', '17.SPS']\n",
      "[ 0. -0.  0.  0.  0.  0. -0. -0.  0.  0.  0. -0. -0.  0.]\n"
     ]
    }
   ],
   "source": [
    "## Lasso on LH sulci ## \n",
    "\n",
    "## set-up model ## \n",
    "\n",
    "#  predictors \n",
    "Xr = ['1.STS', '2.cSTS3', '3.cSTS2', '4.cSTS1',  '5.SmgS', '6.slocs_v', '10.lTOS', '11.mTOS', '12.IPS_PO', '13.pips', '14.sB', '15.aipsJ', '16.IPS', '17.SPS']\n",
    "\n",
    "# DV \n",
    "yr = ['PMAT24_A_CR']\n",
    "\n",
    "# alpha values\n",
    "alpha = {'alpha':[.005, .01, .03, .05, .07, .09, .1, .3, .5, .7, .9]}\n",
    "# model\n",
    "lh_lasso = lasso_(left_hemi_depth[Xr], left_hemi_depth[yr], alpha)\n",
    "\n",
    "# alpha\n",
    "print(lh_lasso[0])\n",
    "\n",
    "# neg MSE \n",
    "print(lh_lasso[1])\n",
    "\n",
    "# beta-vals\n",
    "print(Xr)\n",
    "print(lh_lasso[2])"
   ]
  },
  {
   "cell_type": "markdown",
   "id": "c60ce1f7",
   "metadata": {},
   "source": [
    "#### right hemisphere lasso - spatial orientation"
   ]
  },
  {
   "cell_type": "code",
   "execution_count": 7,
   "id": "52753b1f",
   "metadata": {},
   "outputs": [
    {
     "name": "stdout",
     "output_type": "stream",
     "text": [
      "{'alpha': 0.3}\n",
      "-26.409602076124568\n",
      "['1.STS', '2.cSTS3', '3.cSTS2', '4.cSTS1', '5.SmgS', '6.slocs_v', '10.lTOS', '11.mTOS', '12.IPS_PO', '13.pips', '14.sB', '15.aipsJ', '16.IPS', '17.SPS']\n",
      "[-0. -0.  0.  0. -0. -0. -0. -0.  0.  0.  0. -0. -0.  0.]\n"
     ]
    }
   ],
   "source": [
    "## Lasso on RH sulci ## \n",
    "\n",
    "## set-up model ## \n",
    "\n",
    "# predictors \n",
    "Xr = ['1.STS', '2.cSTS3', '3.cSTS2', '4.cSTS1',  '5.SmgS', '6.slocs_v', '10.lTOS', '11.mTOS', '12.IPS_PO', '13.pips', '14.sB', '15.aipsJ', '16.IPS', '17.SPS']\n",
    "\n",
    "# DV \n",
    "yr = ['VSPLOT_TC']\n",
    "\n",
    "# alpha values\n",
    "alpha = {'alpha':[.005, .01, .03, .05, .07, .09, .1, .3, .5, .7, .9]}\n",
    "# model\n",
    "rh_lasso = lasso_(right_hemi_depth[Xr], right_hemi_depth[yr], alpha)\n",
    "\n",
    "## plot results ##\n",
    "# alpha\n",
    "print(rh_lasso[0])\n",
    "\n",
    "# neg MSE \n",
    "print(rh_lasso[1])\n",
    "\n",
    "# beta-vals\n",
    "print(Xr)\n",
    "print(rh_lasso[2])"
   ]
  },
  {
   "cell_type": "markdown",
   "id": "ea536e1b",
   "metadata": {},
   "source": [
    "RH LPC sulci are not related to spatial orientation in young adults."
   ]
  },
  {
   "cell_type": "markdown",
   "id": "96d8bf39",
   "metadata": {},
   "source": [
    "#### left hemisphere lasso - spatial orientation"
   ]
  },
  {
   "cell_type": "code",
   "execution_count": 8,
   "id": "bd6f69eb",
   "metadata": {},
   "outputs": [
    {
     "name": "stdout",
     "output_type": "stream",
     "text": [
      "{'alpha': 0.05}\n",
      "-25.631911135131983\n",
      "['1.STS', '2.cSTS3', '3.cSTS2', '4.cSTS1', '5.SmgS', '6.slocs_v', '10.lTOS', '11.mTOS', '12.IPS_PO', '13.pips', '14.sB', '15.aipsJ', '16.IPS', '17.SPS']\n",
      "[ 0.         -9.77070812  0.         -0.          0.         -3.36292239\n",
      " -4.90838136 -0.05745792  0.          5.01816581  0.         -0.\n",
      "  0.          4.30165084]\n"
     ]
    }
   ],
   "source": [
    "## Lasso on LH sulci ## \n",
    "\n",
    "## set-up model ## \n",
    "\n",
    "#  predictors \n",
    "Xr = ['1.STS', '2.cSTS3', '3.cSTS2', '4.cSTS1',  '5.SmgS', '6.slocs_v', '10.lTOS', '11.mTOS', '12.IPS_PO', '13.pips', '14.sB', '15.aipsJ', '16.IPS', '17.SPS']\n",
    "\n",
    "# DV \n",
    "yr = ['VSPLOT_TC']\n",
    "\n",
    "# alpha values\n",
    "alpha = {'alpha':[.005, .01, .03, .05, .07, .09, .1, .3, .5, .7, .9]}\n",
    "# model\n",
    "lh_lasso = lasso_(left_hemi_depth[Xr], left_hemi_depth[yr], alpha)\n",
    "\n",
    "# alpha\n",
    "print(lh_lasso[0])\n",
    "\n",
    "# neg MSE \n",
    "print(lh_lasso[1])\n",
    "\n",
    "# beta-vals\n",
    "print(Xr)\n",
    "print(lh_lasso[2])"
   ]
  },
  {
   "cell_type": "markdown",
   "id": "f805d69e",
   "metadata": {},
   "source": [
    "Six LH LPC sulci are related to spatial orientation performance in young adults: mTOS, iTOS, cSTS3, SLOS, pips, SPS."
   ]
  },
  {
   "cell_type": "markdown",
   "id": "3aab9125",
   "metadata": {},
   "source": [
    "### Model Evaluation\n",
    "After determining which sulci are relevant for behavior, we use these sulci to construct a model to predict behavior from the selected sulci."
   ]
  },
  {
   "cell_type": "code",
   "execution_count": 9,
   "id": "91382195",
   "metadata": {},
   "outputs": [],
   "source": [
    "## load sklearn functions for loocv ##\n",
    "from sklearn.model_selection import train_test_split\n",
    "from sklearn import metrics\n",
    "from sklearn import linear_model\n",
    "from sklearn.utils import resample"
   ]
  },
  {
   "cell_type": "markdown",
   "id": "d77e549d",
   "metadata": {},
   "source": [
    "#### Fit linear regression with loocv\n",
    "We fit all of our models using a leave-out-out cross validation which is appropriate for small sample sizes"
   ]
  },
  {
   "cell_type": "code",
   "execution_count": 10,
   "id": "ea1f49dd",
   "metadata": {},
   "outputs": [],
   "source": [
    "# LOOCV\n",
    "def lm_loocv (Xr, yr, mod):\n",
    "    \"\"\"\n",
    "    linear regression with a leave-one-subject out cross validation proceedure. \n",
    "    input: input: Xr = matrix or array of predictors from dataframe  in format X= df[['X1', 'X2', 'Xn']]\n",
    "    yr = Array of DV of interest from dataframe in format y= df['yr']\n",
    "    mod = model name as strip. will be used to save a .csv with model predictions are saved as file for later use\n",
    "    returns: r_squared-cv, mean squared error, dataframe of measured and predicted y-values.\n",
    "\n",
    "    \"\"\"    \n",
    "    \n",
    "    # create arrays to append y-vals\n",
    "    ytests = []\n",
    "    ypreds = []\n",
    "    \n",
    "    # set input arrays as np objects\n",
    "    X_array = np.array(Xr)\n",
    "    y_array = np.array(yr)\n",
    " \n",
    "     # split into train and test\n",
    "    for train_idx, test_idx in loo.split(Xr):\n",
    "        X_train, X_test = X_array[train_idx], X_array[test_idx] #requires arrays\n",
    "        y_train, y_test = y_array[train_idx], y_array[test_idx]\n",
    "\n",
    "        # model to fit\n",
    "        lm = linear_model.LinearRegression() \n",
    "        \n",
    "        # fit model on training data\n",
    "        model = lm.fit(X_train,y_train) \n",
    "        \n",
    "        # generate predictions with testing data\n",
    "        y_pred = lm.predict(X_test) \n",
    "        \n",
    "        #there is only one y-test and y-pred per iteration over the loo.split, \n",
    "        #so we append each score to respective lists.\n",
    "        \n",
    "        ytests += list(y_test) #should be your original y input\n",
    "        ypreds += list(y_pred)\n",
    "\n",
    "    #get mean squared error and R2-cv values by comparing the test to the predicted.       \n",
    "    rr = metrics.r2_score(ytests, ypreds)\n",
    "    ms_error = metrics.mean_squared_error(ytests, ypreds)\n",
    "    \n",
    "    # save predicted/measured scores as a dataframe (and write to csv)\n",
    "    model_preds = pd.DataFrame({\"Measured\": ytests, \"Predicted\": ypreds})\n",
    "    model_preds.to_csv(path_or_buf= \"plots/\" + mod + \".csv\")\n",
    "    \n",
    "    # return regression fit metrics\n",
    "    return rr , ms_error, model_preds  "
   ]
  },
  {
   "cell_type": "markdown",
   "id": "39d26e03",
   "metadata": {},
   "source": [
    "#### bootrapped MSE to estimate emprical confidence intervals\n",
    "loocv can result in high variance and overfitting so will will address this concern by providing empirically estimated MSE confidence intervals."
   ]
  },
  {
   "cell_type": "code",
   "execution_count": 11,
   "id": "a2b4967b",
   "metadata": {},
   "outputs": [],
   "source": [
    "from sklearn.utils import resample\n",
    "np.random.seed(342)"
   ]
  },
  {
   "cell_type": "markdown",
   "id": "e91188ea",
   "metadata": {},
   "source": [
    "We will perform 10,000 iterations. For each iteration we will fit our loocv model on the resampled data and return the MSE. This will provide us with a range of possible MSE values which we can use to assess the variance in our model predictions. "
   ]
  },
  {
   "cell_type": "code",
   "execution_count": 12,
   "id": "a8d13d6e",
   "metadata": {},
   "outputs": [],
   "source": [
    "# bootstrap for selected model\n",
    "\n",
    "def bootstrapped(data, Xr, yr, n_samples, n_iter = 10000):\n",
    "    '''\n",
    "    Input\n",
    "        - data: dataframe\n",
    "        - Xr: array of column names for x predictors in data\n",
    "        - yr: column name for y predictor in data \n",
    "        - n_samples: number of samples to draw each time. Usually len(data)\n",
    "        - n_iter: number of iterations. Default = 10,000\n",
    "    '''\n",
    "    # array to store MSE\n",
    "    MSE = []\n",
    "    \n",
    "    # set no. iterations from input\n",
    "    n_iterations = n_iter    \n",
    "\n",
    "    for i in range(n_iterations):\n",
    "        #resample data with replacement\n",
    "        data_resampled = resample(data, n_samples = n_samples, replace = True)\n",
    "        \n",
    "        # set predictors in resampled data frame\n",
    "        Xresample = data_resampled[Xr]\n",
    "        yresample = data_resampled[yr]\n",
    "        \n",
    "        # run cross-validated linear regression on resampled data\n",
    "        loocv = lm_loocv(Xresample, yresample, 'boot')\n",
    "        \n",
    "        # save resampled MSE\n",
    "        ms_error = loocv[1]\n",
    "        \n",
    "        # append to MSE object\n",
    "        MSE.append(ms_error)\n",
    "\n",
    "    return MSE"
   ]
  },
  {
   "cell_type": "code",
   "execution_count": 13,
   "id": "99c9702a",
   "metadata": {},
   "outputs": [],
   "source": [
    "## estimate 95% CI from bootrapped MSE ##\n",
    "\n",
    "def est_CI(bootrapped_MSE):\n",
    "    # 95% CI\n",
    "    alpha = 0.95 \n",
    "    \n",
    "    # calc lower percentile\n",
    "    p = ((1.0-alpha)/2)*100\n",
    "    lower =  np.percentile(bootrapped_MSE, p)\n",
    "    \n",
    "    # calc upper percentile\n",
    "    p = (alpha+((1.0-alpha)/2.0))*100\n",
    "    upper = np.percentile(bootrapped_MSE, p)\n",
    "\n",
    "    print ('%.1f confidence interval %.2f and %.2f' % (alpha*100, lower, upper))"
   ]
  },
  {
   "cell_type": "markdown",
   "id": "51486975",
   "metadata": {},
   "source": [
    "#### setup data\n",
    "the below will change based on our results"
   ]
  },
  {
   "cell_type": "markdown",
   "id": "51b397f8",
   "metadata": {},
   "source": [
    "#### model 1a - 6 sulci ####\n",
    "First we fit the model derived from the findings."
   ]
  },
  {
   "cell_type": "code",
   "execution_count": 14,
   "id": "213fbca6",
   "metadata": {},
   "outputs": [],
   "source": [
    "## set model for selected sulci ##\n",
    "\n",
    "# x-vals are sulcal depth from sample\n",
    "\n",
    "Xr = ['2.cSTS3', '6.slocs_v', '10.lTOS', '11.mTOS', '13.pips', '17.SPS']\n",
    "\n",
    "# DV: spatial orientation\n",
    "yr = 'VSPLOT_TC'"
   ]
  },
  {
   "cell_type": "code",
   "execution_count": 15,
   "id": "fa2d49b2",
   "metadata": {},
   "outputs": [
    {
     "name": "stdout",
     "output_type": "stream",
     "text": [
      "0.06445202778395598 23.996481258365648\n"
     ]
    }
   ],
   "source": [
    "## predict score ##\n",
    "mod_1a = lm_loocv(left_hemi_depth[Xr], left_hemi_depth[yr], \"model_1a\")\n",
    "\n",
    "# print MSE and R2\n",
    "# We can assess the fit of this model by looking at MSE-cv and R2 values\n",
    "print(mod_1a[0], mod_1a[1])"
   ]
  },
  {
   "cell_type": "markdown",
   "id": "61ce993e",
   "metadata": {},
   "source": [
    "Model is slightly predictive of spatial orientation score (R2 = .04, MSE = 24.76). \n",
    "To further assess our mdoel we now bootrap the MSE (we will plot this down below)"
   ]
  },
  {
   "cell_type": "code",
   "execution_count": 22,
   "id": "af9916d2",
   "metadata": {},
   "outputs": [],
   "source": [
    "# boostrap MSE\n",
    "mod_1a_boot = bootstrapped(left_hemi_depth, Xr, yr, 69, n_iter = 10000) \n",
    "# 10000"
   ]
  },
  {
   "cell_type": "code",
   "execution_count": 17,
   "id": "e45549c2",
   "metadata": {},
   "outputs": [
    {
     "name": "stdout",
     "output_type": "stream",
     "text": [
      "95.0 confidence interval 12.46 and 49.50\n"
     ]
    }
   ],
   "source": [
    "# compute MSE  95% CI \n",
    "CI_1a = est_CI(mod_1a_boot)"
   ]
  },
  {
   "cell_type": "code",
   "execution_count": 19,
   "id": "6149793c",
   "metadata": {},
   "outputs": [
    {
     "data": {
      "text/plain": [
       "27.40126139023092"
      ]
     },
     "execution_count": 19,
     "metadata": {},
     "output_type": "execute_result"
    }
   ],
   "source": [
    "#compute median MSE\n",
    "med_1a = np.median(mod_1a_boot)\n",
    "med_1a"
   ]
  },
  {
   "cell_type": "markdown",
   "id": "5a289750",
   "metadata": {},
   "source": [
    "This model offers and even stronger fit for our data (R2 = .07, MSE = 24.01)!"
   ]
  },
  {
   "cell_type": "markdown",
   "id": "f9f030a9",
   "metadata": {},
   "source": [
    "#### model 3 - all LH sulci\n",
    "Finally, we can test a model include all LH LPC sulci in the model."
   ]
  },
  {
   "cell_type": "code",
   "execution_count": 20,
   "id": "0da601ac",
   "metadata": {},
   "outputs": [],
   "source": [
    "## set model for ##\n",
    "Xr = ['1.STS', '2.cSTS3', '3.cSTS2', '4.cSTS1',  '5.SmgS', '6.slocs_v', '10.lTOS', '11.mTOS', '12.IPS_PO', '13.pips', '14.sB', '15.aipsJ', '16.IPS', '17.SPS']"
   ]
  },
  {
   "cell_type": "code",
   "execution_count": 21,
   "id": "e11d8f2a",
   "metadata": {},
   "outputs": [
    {
     "name": "stdout",
     "output_type": "stream",
     "text": [
      "-0.05743246718609396 27.12277631334413\n"
     ]
    }
   ],
   "source": [
    "## predict reasoning score ##\n",
    "mod_3 = lm_loocv(left_hemi_depth[Xr], left_hemi_depth[yr], \"model_3\")\n",
    "\n",
    "# print MSE and R2\n",
    "print(mod_3[0], mod_3[1])"
   ]
  },
  {
   "cell_type": "code",
   "execution_count": null,
   "id": "6cd97657",
   "metadata": {},
   "outputs": [],
   "source": [
    "# boostrap MSE\n",
    "mod_3_boot = bootstrapped(left_hemi_depth, Xr, yr, 69, n_iter = 10000)"
   ]
  },
  {
   "cell_type": "code",
   "execution_count": null,
   "id": "11067d9c",
   "metadata": {},
   "outputs": [],
   "source": [
    "# compute MSE  95% CI \n",
    "CI_3 = est_CI(mod_3_boot)"
   ]
  },
  {
   "cell_type": "code",
   "execution_count": null,
   "id": "d539f11e",
   "metadata": {},
   "outputs": [],
   "source": [
    "#compute median MSE\n",
    "med_3 = np.median(mod_3_boot)"
   ]
  },
  {
   "cell_type": "markdown",
   "id": "90100161",
   "metadata": {},
   "source": [
    "#### Correlate model predictions\n",
    "To further characterize the fit of our best model (model 1b) we can correlate our predicted scores from the model with the subjects' actual spatial orientation scores. "
   ]
  },
  {
   "cell_type": "code",
   "execution_count": 155,
   "id": "3df60622",
   "metadata": {},
   "outputs": [
    {
     "data": {
      "text/html": [
       "<div>\n",
       "<style scoped>\n",
       "    .dataframe tbody tr th:only-of-type {\n",
       "        vertical-align: middle;\n",
       "    }\n",
       "\n",
       "    .dataframe tbody tr th {\n",
       "        vertical-align: top;\n",
       "    }\n",
       "\n",
       "    .dataframe thead th {\n",
       "        text-align: right;\n",
       "    }\n",
       "</style>\n",
       "<table border=\"1\" class=\"dataframe\">\n",
       "  <thead>\n",
       "    <tr style=\"text-align: right;\">\n",
       "      <th></th>\n",
       "      <th>Measured</th>\n",
       "      <th>Predicted</th>\n",
       "    </tr>\n",
       "  </thead>\n",
       "  <tbody>\n",
       "    <tr>\n",
       "      <th>Measured</th>\n",
       "      <td>1.000000</td>\n",
       "      <td>0.290021</td>\n",
       "    </tr>\n",
       "    <tr>\n",
       "      <th>Predicted</th>\n",
       "      <td>0.290021</td>\n",
       "      <td>1.000000</td>\n",
       "    </tr>\n",
       "  </tbody>\n",
       "</table>\n",
       "</div>"
      ],
      "text/plain": [
       "           Measured  Predicted\n",
       "Measured   1.000000   0.290021\n",
       "Predicted  0.290021   1.000000"
      ]
     },
     "execution_count": 155,
     "metadata": {},
     "output_type": "execute_result"
    }
   ],
   "source": [
    "## model 1a ## \n",
    "mod_1a_preds = mod_1a[2]\n",
    "mod_1a_preds.corr(method = 'spearman')"
   ]
  },
  {
   "cell_type": "markdown",
   "id": "a01b0e4a",
   "metadata": {},
   "source": [
    "### Additional Behavior analyses\n",
    "We can further evaluate our model by look at other common morphological and behavioral metrics. \n",
    "* Does cortical thickness predict spatial orientation?\n",
    "\n",
    "we can compare the predictions from these models to our sulcal depth - spatial orientation model. \n",
    "For non-nested mdoel comparison we will use AIC"
   ]
  },
  {
   "cell_type": "code",
   "execution_count": 116,
   "id": "5763d8c1",
   "metadata": {},
   "outputs": [],
   "source": [
    "## AIC ##\n",
    "\n",
    "def calculate_aic(n, mse, num_params):\n",
    "    '''\n",
    "    input:\n",
    "    - n = num observations\n",
    "    - mse =. mean squared error from regression\n",
    "    - num_params = number of predictors in the model (including the intercept if applicable!)\n",
    "    '''\n",
    "    aic = n *np.log(mse) + 2 * num_params\n",
    "    return aic"
   ]
  },
  {
   "cell_type": "markdown",
   "id": "5fdaae0d",
   "metadata": {},
   "source": [
    "AIC is a relative measure. In order to assess the fit we will compare the AIC value of each alternative model to our best model. THe model with the lowest AIC is better. To report a difference the difference in AIC must be > 2. A difference > 10 is considered substantial. "
   ]
  },
  {
   "cell_type": "code",
   "execution_count": 117,
   "id": "4b62c4a0",
   "metadata": {},
   "outputs": [
    {
     "name": "stdout",
     "output_type": "stream",
     "text": [
      "93.8034945448351\n"
     ]
    }
   ],
   "source": [
    "## AIC from our tertiary sulcal model 1a ##\n",
    "AIC_1a = calculate_aic(27, mod_1a[1], 4)\n",
    "print(AIC_1a)"
   ]
  },
  {
   "cell_type": "markdown",
   "id": "5120422c",
   "metadata": {},
   "source": [
    "#### cortical thickness\n",
    "We replace depth values for each of the sulci in our selected model (1a) with cortical thickness, and then predict spatial orientation score"
   ]
  },
  {
   "cell_type": "code",
   "execution_count": 118,
   "id": "e2bed931",
   "metadata": {},
   "outputs": [],
   "source": [
    "## load cortical thickness data ## \n",
    "lpc_thickness = pd.read_csv('lpc_sulc_thickness_lasso_final')\n",
    "left_hemi_thickness = lpc_thickness[lpc_thickness[\"hemi\"] == 'lh']"
   ]
  },
  {
   "cell_type": "code",
   "execution_count": 119,
   "id": "0db82e5a",
   "metadata": {},
   "outputs": [
    {
     "name": "stdout",
     "output_type": "stream",
     "text": [
      "-0.01462227023780116 26.02470959817261\n"
     ]
    }
   ],
   "source": [
    "# x-vals are sulcal depth from sample\n",
    "Xr = ['2.cSTS3', '6.slocs_v', '10.lTOS', '11.mTOS', '13.pips', '17.SPS']\n",
    "\n",
    "# DV: spatial orientation\n",
    "yr = 'VSPLOT_TC'\n",
    "\n",
    "## predicting spatial orientation score from thickness ## \n",
    "model_thick_a = lm_loocv(left_hemi_thickness[Xr], left_hemi_thickness[yr], \"model_thick\")\n",
    "\n",
    "print(model_thick_a[0], model_thick_a[1])"
   ]
  },
  {
   "cell_type": "code",
   "execution_count": 120,
   "id": "d6d3c6e0",
   "metadata": {},
   "outputs": [
    {
     "name": "stdout",
     "output_type": "stream",
     "text": [
      "95.99425430841217\n"
     ]
    }
   ],
   "source": [
    "AIC_thick_a = calculate_aic(27, model_thick_a[1], 4)\n",
    "print(AIC_thick_a)"
   ]
  },
  {
   "cell_type": "code",
   "execution_count": 121,
   "id": "07bf8481",
   "metadata": {},
   "outputs": [
    {
     "name": "stdout",
     "output_type": "stream",
     "text": [
      "2.190759763577063\n"
     ]
    }
   ],
   "source": [
    "change_AIC = AIC_thick_a - AIC_1a\n",
    "print(change_AIC)"
   ]
  },
  {
   "cell_type": "markdown",
   "id": "46d2e008",
   "metadata": {},
   "source": [
    "#### behavioral controls\n",
    "We replace the DV for our model in 1a with other metrics LPC is implicated in "
   ]
  },
  {
   "cell_type": "code",
   "execution_count": 122,
   "id": "cbb278fc",
   "metadata": {},
   "outputs": [
    {
     "name": "stdout",
     "output_type": "stream",
     "text": [
      "-0.11575744756122974 26.02215405635451\n"
     ]
    }
   ],
   "source": [
    "# x-vals are sulcal depth from sample\n",
    "Xr = ['2.cSTS3', '6.slocs_v', '10.lTOS', '11.mTOS', '13.pips', '17.SPS']\n",
    "\n",
    "# DV: reasoning\n",
    "yr = 'PMAT24_A_CR'\n",
    "\n",
    "## predicting reasoning score from depth ## \n",
    "model_cc = lm_loocv(left_hemi_depth[Xr], left_hemi_depth[yr], \"model_cc\")\n",
    "\n",
    "print(model_cc[0], model_cc[1])"
   ]
  },
  {
   "cell_type": "code",
   "execution_count": null,
   "id": "4c7f1858",
   "metadata": {},
   "outputs": [],
   "source": []
  },
  {
   "cell_type": "code",
   "execution_count": 107,
   "id": "f973ac32",
   "metadata": {},
   "outputs": [
    {
     "name": "stdout",
     "output_type": "stream",
     "text": [
      "95.99160286606582\n",
      "2.1881083212307146\n"
     ]
    }
   ],
   "source": [
    "AIC_cc = calculate_aic(27, model_cc[1], 4)\n",
    "print(AIC_cc)\n",
    "\n",
    "change_AIC = AIC_cc - AIC_1a\n",
    "print(change_AIC)"
   ]
  },
  {
   "cell_type": "code",
   "execution_count": 108,
   "id": "21d4a8b3",
   "metadata": {},
   "outputs": [
    {
     "name": "stdout",
     "output_type": "stream",
     "text": [
      "-0.124223469893886 254.37969608588116\n"
     ]
    }
   ],
   "source": [
    "# x-vals are sulcal depth from sample\n",
    "Xr = ['2.cSTS3', '6.slocs_v', '10.lTOS', '11.mTOS', '13.pips', '17.SPS']\n",
    "\n",
    "# DV: processing speed\n",
    "yr = 'ProcSpeed_Unadj'\n",
    "\n",
    "## predicting processing speed from depth ## \n",
    "model_ps = lm_loocv(left_hemi_depth[Xr], left_hemi_depth[yr], \"model_ps\")\n",
    "\n",
    "print(model_ps[0], model_ps[1])"
   ]
  },
  {
   "cell_type": "code",
   "execution_count": 109,
   "id": "9c067c1a",
   "metadata": {},
   "outputs": [
    {
     "name": "stdout",
     "output_type": "stream",
     "text": [
      "157.5483564670387\n",
      "63.7448619222036\n"
     ]
    }
   ],
   "source": [
    "AIC_ps = calculate_aic(27, model_ps[1], 4)\n",
    "print(AIC_ps)\n",
    "\n",
    "change_AIC = AIC_ps - AIC_1a\n",
    "print(change_AIC)"
   ]
  }
 ],
 "metadata": {
  "kernelspec": {
   "display_name": "Python 3",
   "language": "python",
   "name": "python3"
  },
  "language_info": {
   "codemirror_mode": {
    "name": "ipython",
    "version": 3
   },
   "file_extension": ".py",
   "mimetype": "text/x-python",
   "name": "python",
   "nbconvert_exporter": "python",
   "pygments_lexer": "ipython3",
   "version": "3.8.8"
  }
 },
 "nbformat": 4,
 "nbformat_minor": 5
}
